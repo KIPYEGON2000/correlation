{
 "cells": [
  {
   "cell_type": "markdown",
   "id": "924d7c02",
   "metadata": {},
   "source": [
    "## programm to read two shapefile of points and do corelation of fields"
   ]
  },
  {
   "cell_type": "markdown",
   "id": "8d24fb05",
   "metadata": {},
   "source": [
    "importing required libraries"
   ]
  },
  {
   "cell_type": "code",
   "execution_count": 1,
   "id": "3923f81a",
   "metadata": {},
   "outputs": [],
   "source": [
    "import geopandas as gdp\n",
    "import numpy as np\n",
    "import pandas as pd\n",
    "import matplotlib.pyplot as plt\n",
    "import seaborn as sp"
   ]
  },
  {
   "cell_type": "markdown",
   "id": "28afa3b7",
   "metadata": {},
   "source": [
    "## geopandas.read_file(\"directorate/shapefile.shp\")\n",
    "reading shapefile using geopandas libraries\n"
   ]
  },
  {
   "cell_type": "code",
   "execution_count": 3,
   "id": "2cf8a347",
   "metadata": {},
   "outputs": [],
   "source": [
    "shapefile1=gdp.read_file(\"random_predicted.shp\")\n",
    "shapefile2=gdp.read_file(\"random_actual.shp\")"
   ]
  },
  {
   "cell_type": "code",
   "execution_count": 4,
   "id": "d1019bf6",
   "metadata": {},
   "outputs": [
    {
     "data": {
      "text/html": [
       "<div>\n",
       "<style scoped>\n",
       "    .dataframe tbody tr th:only-of-type {\n",
       "        vertical-align: middle;\n",
       "    }\n",
       "\n",
       "    .dataframe tbody tr th {\n",
       "        vertical-align: top;\n",
       "    }\n",
       "\n",
       "    .dataframe thead th {\n",
       "        text-align: right;\n",
       "    }\n",
       "</style>\n",
       "<table border=\"1\" class=\"dataframe\">\n",
       "  <thead>\n",
       "    <tr style=\"text-align: right;\">\n",
       "      <th></th>\n",
       "      <th>id</th>\n",
       "      <th>SAMPLE_1</th>\n",
       "      <th>SAMPLE_2</th>\n",
       "      <th>SAMPLE_3</th>\n",
       "      <th>geometry</th>\n",
       "    </tr>\n",
       "  </thead>\n",
       "  <tbody>\n",
       "    <tr>\n",
       "      <th>0</th>\n",
       "      <td>0.0</td>\n",
       "      <td>623.251892</td>\n",
       "      <td>578.720093</td>\n",
       "      <td>346.959900</td>\n",
       "      <td>POINT (31.15904 1.16110)</td>\n",
       "    </tr>\n",
       "    <tr>\n",
       "      <th>1</th>\n",
       "      <td>1.0</td>\n",
       "      <td>964.024109</td>\n",
       "      <td>853.243225</td>\n",
       "      <td>545.459717</td>\n",
       "      <td>POINT (31.11454 1.15584)</td>\n",
       "    </tr>\n",
       "    <tr>\n",
       "      <th>2</th>\n",
       "      <td>2.0</td>\n",
       "      <td>397.593567</td>\n",
       "      <td>548.133850</td>\n",
       "      <td>203.972687</td>\n",
       "      <td>POINT (31.02423 1.21883)</td>\n",
       "    </tr>\n",
       "    <tr>\n",
       "      <th>3</th>\n",
       "      <td>3.0</td>\n",
       "      <td>348.425201</td>\n",
       "      <td>448.019928</td>\n",
       "      <td>248.205780</td>\n",
       "      <td>POINT (31.14819 1.09349)</td>\n",
       "    </tr>\n",
       "    <tr>\n",
       "      <th>4</th>\n",
       "      <td>4.0</td>\n",
       "      <td>184.369995</td>\n",
       "      <td>276.514954</td>\n",
       "      <td>169.315613</td>\n",
       "      <td>POINT (30.94523 1.15462)</td>\n",
       "    </tr>\n",
       "    <tr>\n",
       "      <th>...</th>\n",
       "      <td>...</td>\n",
       "      <td>...</td>\n",
       "      <td>...</td>\n",
       "      <td>...</td>\n",
       "      <td>...</td>\n",
       "    </tr>\n",
       "    <tr>\n",
       "      <th>495</th>\n",
       "      <td>495.0</td>\n",
       "      <td>394.659424</td>\n",
       "      <td>484.006073</td>\n",
       "      <td>278.072968</td>\n",
       "      <td>POINT (31.17500 1.20874)</td>\n",
       "    </tr>\n",
       "    <tr>\n",
       "      <th>496</th>\n",
       "      <td>496.0</td>\n",
       "      <td>375.601776</td>\n",
       "      <td>567.627991</td>\n",
       "      <td>260.427032</td>\n",
       "      <td>POINT (31.04847 1.16652)</td>\n",
       "    </tr>\n",
       "    <tr>\n",
       "      <th>497</th>\n",
       "      <td>497.0</td>\n",
       "      <td>418.651031</td>\n",
       "      <td>553.307251</td>\n",
       "      <td>333.272614</td>\n",
       "      <td>POINT (30.90652 1.11336)</td>\n",
       "    </tr>\n",
       "    <tr>\n",
       "      <th>498</th>\n",
       "      <td>498.0</td>\n",
       "      <td>449.275940</td>\n",
       "      <td>595.064209</td>\n",
       "      <td>301.981720</td>\n",
       "      <td>POINT (31.09393 1.13226)</td>\n",
       "    </tr>\n",
       "    <tr>\n",
       "      <th>499</th>\n",
       "      <td>499.0</td>\n",
       "      <td>356.531250</td>\n",
       "      <td>460.803894</td>\n",
       "      <td>179.023895</td>\n",
       "      <td>POINT (31.11494 1.18047)</td>\n",
       "    </tr>\n",
       "  </tbody>\n",
       "</table>\n",
       "<p>500 rows × 5 columns</p>\n",
       "</div>"
      ],
      "text/plain": [
       "        id    SAMPLE_1    SAMPLE_2    SAMPLE_3                  geometry\n",
       "0      0.0  623.251892  578.720093  346.959900  POINT (31.15904 1.16110)\n",
       "1      1.0  964.024109  853.243225  545.459717  POINT (31.11454 1.15584)\n",
       "2      2.0  397.593567  548.133850  203.972687  POINT (31.02423 1.21883)\n",
       "3      3.0  348.425201  448.019928  248.205780  POINT (31.14819 1.09349)\n",
       "4      4.0  184.369995  276.514954  169.315613  POINT (30.94523 1.15462)\n",
       "..     ...         ...         ...         ...                       ...\n",
       "495  495.0  394.659424  484.006073  278.072968  POINT (31.17500 1.20874)\n",
       "496  496.0  375.601776  567.627991  260.427032  POINT (31.04847 1.16652)\n",
       "497  497.0  418.651031  553.307251  333.272614  POINT (30.90652 1.11336)\n",
       "498  498.0  449.275940  595.064209  301.981720  POINT (31.09393 1.13226)\n",
       "499  499.0  356.531250  460.803894  179.023895  POINT (31.11494 1.18047)\n",
       "\n",
       "[500 rows x 5 columns]"
      ]
     },
     "execution_count": 4,
     "metadata": {},
     "output_type": "execute_result"
    }
   ],
   "source": [
    "shapefile1 #accessing values of columns"
   ]
  },
  {
   "cell_type": "markdown",
   "id": "80110fde",
   "metadata": {},
   "source": [
    "## accessing specific columns of each shapefiles"
   ]
  },
  {
   "cell_type": "code",
   "execution_count": 6,
   "id": "2693285b",
   "metadata": {},
   "outputs": [],
   "source": [
    "shp1=shapefile1[['id','SAMPLE_1','SAMPLE_2','SAMPLE_3']]\n",
    "shp2=shapefile2[['id','SAMPLE_1','SAMPLE_2','SAMPLE_3']]"
   ]
  },
  {
   "cell_type": "code",
   "execution_count": 7,
   "id": "f3e9eb1d",
   "metadata": {},
   "outputs": [
    {
     "data": {
      "text/html": [
       "<div>\n",
       "<style scoped>\n",
       "    .dataframe tbody tr th:only-of-type {\n",
       "        vertical-align: middle;\n",
       "    }\n",
       "\n",
       "    .dataframe tbody tr th {\n",
       "        vertical-align: top;\n",
       "    }\n",
       "\n",
       "    .dataframe thead th {\n",
       "        text-align: right;\n",
       "    }\n",
       "</style>\n",
       "<table border=\"1\" class=\"dataframe\">\n",
       "  <thead>\n",
       "    <tr style=\"text-align: right;\">\n",
       "      <th></th>\n",
       "      <th>id</th>\n",
       "      <th>SAMPLE_1</th>\n",
       "      <th>SAMPLE_2</th>\n",
       "      <th>SAMPLE_3</th>\n",
       "    </tr>\n",
       "  </thead>\n",
       "  <tbody>\n",
       "    <tr>\n",
       "      <th>0</th>\n",
       "      <td>0.0</td>\n",
       "      <td>623.251892</td>\n",
       "      <td>578.720093</td>\n",
       "      <td>346.959900</td>\n",
       "    </tr>\n",
       "    <tr>\n",
       "      <th>1</th>\n",
       "      <td>1.0</td>\n",
       "      <td>964.024109</td>\n",
       "      <td>853.243225</td>\n",
       "      <td>545.459717</td>\n",
       "    </tr>\n",
       "    <tr>\n",
       "      <th>2</th>\n",
       "      <td>2.0</td>\n",
       "      <td>397.593567</td>\n",
       "      <td>548.133850</td>\n",
       "      <td>203.972687</td>\n",
       "    </tr>\n",
       "    <tr>\n",
       "      <th>3</th>\n",
       "      <td>3.0</td>\n",
       "      <td>348.425201</td>\n",
       "      <td>448.019928</td>\n",
       "      <td>248.205780</td>\n",
       "    </tr>\n",
       "    <tr>\n",
       "      <th>4</th>\n",
       "      <td>4.0</td>\n",
       "      <td>184.369995</td>\n",
       "      <td>276.514954</td>\n",
       "      <td>169.315613</td>\n",
       "    </tr>\n",
       "    <tr>\n",
       "      <th>...</th>\n",
       "      <td>...</td>\n",
       "      <td>...</td>\n",
       "      <td>...</td>\n",
       "      <td>...</td>\n",
       "    </tr>\n",
       "    <tr>\n",
       "      <th>495</th>\n",
       "      <td>495.0</td>\n",
       "      <td>394.659424</td>\n",
       "      <td>484.006073</td>\n",
       "      <td>278.072968</td>\n",
       "    </tr>\n",
       "    <tr>\n",
       "      <th>496</th>\n",
       "      <td>496.0</td>\n",
       "      <td>375.601776</td>\n",
       "      <td>567.627991</td>\n",
       "      <td>260.427032</td>\n",
       "    </tr>\n",
       "    <tr>\n",
       "      <th>497</th>\n",
       "      <td>497.0</td>\n",
       "      <td>418.651031</td>\n",
       "      <td>553.307251</td>\n",
       "      <td>333.272614</td>\n",
       "    </tr>\n",
       "    <tr>\n",
       "      <th>498</th>\n",
       "      <td>498.0</td>\n",
       "      <td>449.275940</td>\n",
       "      <td>595.064209</td>\n",
       "      <td>301.981720</td>\n",
       "    </tr>\n",
       "    <tr>\n",
       "      <th>499</th>\n",
       "      <td>499.0</td>\n",
       "      <td>356.531250</td>\n",
       "      <td>460.803894</td>\n",
       "      <td>179.023895</td>\n",
       "    </tr>\n",
       "  </tbody>\n",
       "</table>\n",
       "<p>500 rows × 4 columns</p>\n",
       "</div>"
      ],
      "text/plain": [
       "        id    SAMPLE_1    SAMPLE_2    SAMPLE_3\n",
       "0      0.0  623.251892  578.720093  346.959900\n",
       "1      1.0  964.024109  853.243225  545.459717\n",
       "2      2.0  397.593567  548.133850  203.972687\n",
       "3      3.0  348.425201  448.019928  248.205780\n",
       "4      4.0  184.369995  276.514954  169.315613\n",
       "..     ...         ...         ...         ...\n",
       "495  495.0  394.659424  484.006073  278.072968\n",
       "496  496.0  375.601776  567.627991  260.427032\n",
       "497  497.0  418.651031  553.307251  333.272614\n",
       "498  498.0  449.275940  595.064209  301.981720\n",
       "499  499.0  356.531250  460.803894  179.023895\n",
       "\n",
       "[500 rows x 4 columns]"
      ]
     },
     "execution_count": 7,
     "metadata": {},
     "output_type": "execute_result"
    }
   ],
   "source": [
    "shp1"
   ]
  },
  {
   "cell_type": "markdown",
   "id": "836b5ed3",
   "metadata": {},
   "source": [
    "## creating pandas dataframe from each shapefile that will be used to concatinate"
   ]
  },
  {
   "cell_type": "code",
   "execution_count": 8,
   "id": "1b9eb89d",
   "metadata": {},
   "outputs": [],
   "source": [
    "sh=pd.DataFrame(shp1)\n",
    "sh2=pd.DataFrame(shp2)"
   ]
  },
  {
   "cell_type": "markdown",
   "id": "e9d26d68",
   "metadata": {},
   "source": [
    "## renaming columns of a dataframe\n",
    "there are many ways of renaming \n",
    "1.  renaming specific columns dataframe.rename(columns{'old':'new'},inplace=True)\n",
    "2.renaming all the columns as shown in the following code\n",
    "3.replacing specific character in the column\n",
    "df.columns = df.columns.str.replace('old_char', 'new_char')"
   ]
  },
  {
   "cell_type": "code",
   "execution_count": 9,
   "id": "d599857e",
   "metadata": {},
   "outputs": [],
   "source": [
    "sh2.columns=['id','blue','green','red']"
   ]
  },
  {
   "cell_type": "markdown",
   "id": "7b43d713",
   "metadata": {},
   "source": [
    "## methods of combining columns from defferent dataframe\n",
    "1. using concat\n",
    "2.using merge\n",
    "\n",
    "the differents is that it concat might not take into consideration order"
   ]
  },
  {
   "cell_type": "code",
   "execution_count": 10,
   "id": "50ac7cf7",
   "metadata": {},
   "outputs": [],
   "source": [
    "# using concat\n",
    "sh.columns=['id','blue_predicted','green_predicted','red_predicted']"
   ]
  },
  {
   "cell_type": "code",
   "execution_count": 69,
   "id": "35bd2d25",
   "metadata": {},
   "outputs": [],
   "source": [
    "sh3=pd.concat([sh,sh2])"
   ]
  },
  {
   "cell_type": "code",
   "execution_count": 70,
   "id": "9b250d4c",
   "metadata": {},
   "outputs": [],
   "source": [
    "sh4=sh3.dropna()"
   ]
  },
  {
   "cell_type": "markdown",
   "id": "d291a379",
   "metadata": {},
   "source": [
    "using merge() and following order of id"
   ]
  },
  {
   "cell_type": "code",
   "execution_count": 12,
   "id": "1529134f",
   "metadata": {},
   "outputs": [],
   "source": [
    "f=pd.merge(sh,sh2,how='inner',on='id')"
   ]
  },
  {
   "cell_type": "markdown",
   "id": "5aba74fc",
   "metadata": {},
   "source": [
    "## data cleeaning\n",
    "dropping rows with NAN values\n",
    "when nana rows are droped indexing is maintain in old index to reset this we use daataframe.reset_index(rop=True)"
   ]
  },
  {
   "cell_type": "code",
   "execution_count": 13,
   "id": "37293623",
   "metadata": {},
   "outputs": [],
   "source": [
    "df=f.dropna()\n",
    "\n",
    "dff=df.reset_index(drop=True)"
   ]
  },
  {
   "cell_type": "code",
   "execution_count": 14,
   "id": "b31a1d96",
   "metadata": {},
   "outputs": [
    {
     "data": {
      "text/html": [
       "<div>\n",
       "<style scoped>\n",
       "    .dataframe tbody tr th:only-of-type {\n",
       "        vertical-align: middle;\n",
       "    }\n",
       "\n",
       "    .dataframe tbody tr th {\n",
       "        vertical-align: top;\n",
       "    }\n",
       "\n",
       "    .dataframe thead th {\n",
       "        text-align: right;\n",
       "    }\n",
       "</style>\n",
       "<table border=\"1\" class=\"dataframe\">\n",
       "  <thead>\n",
       "    <tr style=\"text-align: right;\">\n",
       "      <th></th>\n",
       "      <th>id</th>\n",
       "      <th>blue_predicted</th>\n",
       "      <th>green_predicted</th>\n",
       "      <th>red_predicted</th>\n",
       "      <th>blue</th>\n",
       "      <th>green</th>\n",
       "      <th>red</th>\n",
       "    </tr>\n",
       "  </thead>\n",
       "  <tbody>\n",
       "    <tr>\n",
       "      <th>0</th>\n",
       "      <td>0.0</td>\n",
       "      <td>623.251892</td>\n",
       "      <td>578.720093</td>\n",
       "      <td>346.959900</td>\n",
       "      <td>698.0</td>\n",
       "      <td>727.0</td>\n",
       "      <td>404.0</td>\n",
       "    </tr>\n",
       "    <tr>\n",
       "      <th>1</th>\n",
       "      <td>1.0</td>\n",
       "      <td>964.024109</td>\n",
       "      <td>853.243225</td>\n",
       "      <td>545.459717</td>\n",
       "      <td>850.0</td>\n",
       "      <td>773.0</td>\n",
       "      <td>617.0</td>\n",
       "    </tr>\n",
       "    <tr>\n",
       "      <th>2</th>\n",
       "      <td>2.0</td>\n",
       "      <td>397.593567</td>\n",
       "      <td>548.133850</td>\n",
       "      <td>203.972687</td>\n",
       "      <td>348.0</td>\n",
       "      <td>506.0</td>\n",
       "      <td>177.0</td>\n",
       "    </tr>\n",
       "    <tr>\n",
       "      <th>3</th>\n",
       "      <td>3.0</td>\n",
       "      <td>348.425201</td>\n",
       "      <td>448.019928</td>\n",
       "      <td>248.205780</td>\n",
       "      <td>434.0</td>\n",
       "      <td>534.0</td>\n",
       "      <td>269.0</td>\n",
       "    </tr>\n",
       "    <tr>\n",
       "      <th>4</th>\n",
       "      <td>4.0</td>\n",
       "      <td>184.369995</td>\n",
       "      <td>276.514954</td>\n",
       "      <td>169.315613</td>\n",
       "      <td>233.0</td>\n",
       "      <td>359.0</td>\n",
       "      <td>173.0</td>\n",
       "    </tr>\n",
       "    <tr>\n",
       "      <th>...</th>\n",
       "      <td>...</td>\n",
       "      <td>...</td>\n",
       "      <td>...</td>\n",
       "      <td>...</td>\n",
       "      <td>...</td>\n",
       "      <td>...</td>\n",
       "      <td>...</td>\n",
       "    </tr>\n",
       "    <tr>\n",
       "      <th>495</th>\n",
       "      <td>495.0</td>\n",
       "      <td>394.659424</td>\n",
       "      <td>484.006073</td>\n",
       "      <td>278.072968</td>\n",
       "      <td>486.0</td>\n",
       "      <td>661.0</td>\n",
       "      <td>302.0</td>\n",
       "    </tr>\n",
       "    <tr>\n",
       "      <th>496</th>\n",
       "      <td>496.0</td>\n",
       "      <td>375.601776</td>\n",
       "      <td>567.627991</td>\n",
       "      <td>260.427032</td>\n",
       "      <td>331.0</td>\n",
       "      <td>557.0</td>\n",
       "      <td>219.0</td>\n",
       "    </tr>\n",
       "    <tr>\n",
       "      <th>497</th>\n",
       "      <td>497.0</td>\n",
       "      <td>418.651031</td>\n",
       "      <td>553.307251</td>\n",
       "      <td>333.272614</td>\n",
       "      <td>429.0</td>\n",
       "      <td>574.0</td>\n",
       "      <td>296.0</td>\n",
       "    </tr>\n",
       "    <tr>\n",
       "      <th>498</th>\n",
       "      <td>498.0</td>\n",
       "      <td>449.275940</td>\n",
       "      <td>595.064209</td>\n",
       "      <td>301.981720</td>\n",
       "      <td>499.0</td>\n",
       "      <td>645.0</td>\n",
       "      <td>303.0</td>\n",
       "    </tr>\n",
       "    <tr>\n",
       "      <th>499</th>\n",
       "      <td>499.0</td>\n",
       "      <td>356.531250</td>\n",
       "      <td>460.803894</td>\n",
       "      <td>179.023895</td>\n",
       "      <td>383.0</td>\n",
       "      <td>561.0</td>\n",
       "      <td>196.0</td>\n",
       "    </tr>\n",
       "  </tbody>\n",
       "</table>\n",
       "<p>489 rows × 7 columns</p>\n",
       "</div>"
      ],
      "text/plain": [
       "        id  blue_predicted  green_predicted  red_predicted   blue  green  \\\n",
       "0      0.0      623.251892       578.720093     346.959900  698.0  727.0   \n",
       "1      1.0      964.024109       853.243225     545.459717  850.0  773.0   \n",
       "2      2.0      397.593567       548.133850     203.972687  348.0  506.0   \n",
       "3      3.0      348.425201       448.019928     248.205780  434.0  534.0   \n",
       "4      4.0      184.369995       276.514954     169.315613  233.0  359.0   \n",
       "..     ...             ...              ...            ...    ...    ...   \n",
       "495  495.0      394.659424       484.006073     278.072968  486.0  661.0   \n",
       "496  496.0      375.601776       567.627991     260.427032  331.0  557.0   \n",
       "497  497.0      418.651031       553.307251     333.272614  429.0  574.0   \n",
       "498  498.0      449.275940       595.064209     301.981720  499.0  645.0   \n",
       "499  499.0      356.531250       460.803894     179.023895  383.0  561.0   \n",
       "\n",
       "       red  \n",
       "0    404.0  \n",
       "1    617.0  \n",
       "2    177.0  \n",
       "3    269.0  \n",
       "4    173.0  \n",
       "..     ...  \n",
       "495  302.0  \n",
       "496  219.0  \n",
       "497  296.0  \n",
       "498  303.0  \n",
       "499  196.0  \n",
       "\n",
       "[489 rows x 7 columns]"
      ]
     },
     "execution_count": 14,
     "metadata": {},
     "output_type": "execute_result"
    }
   ],
   "source": [
    "df"
   ]
  },
  {
   "cell_type": "markdown",
   "id": "5eb957d9",
   "metadata": {},
   "source": [
    "## performing correlation of specific columns"
   ]
  },
  {
   "cell_type": "code",
   "execution_count": 15,
   "id": "1d80c47e",
   "metadata": {},
   "outputs": [
    {
     "data": {
      "text/html": [
       "<div>\n",
       "<style scoped>\n",
       "    .dataframe tbody tr th:only-of-type {\n",
       "        vertical-align: middle;\n",
       "    }\n",
       "\n",
       "    .dataframe tbody tr th {\n",
       "        vertical-align: top;\n",
       "    }\n",
       "\n",
       "    .dataframe thead th {\n",
       "        text-align: right;\n",
       "    }\n",
       "</style>\n",
       "<table border=\"1\" class=\"dataframe\">\n",
       "  <thead>\n",
       "    <tr style=\"text-align: right;\">\n",
       "      <th></th>\n",
       "      <th>red_predicted</th>\n",
       "      <th>red</th>\n",
       "    </tr>\n",
       "  </thead>\n",
       "  <tbody>\n",
       "    <tr>\n",
       "      <th>red_predicted</th>\n",
       "      <td>1.000000</td>\n",
       "      <td>0.829327</td>\n",
       "    </tr>\n",
       "    <tr>\n",
       "      <th>red</th>\n",
       "      <td>0.829327</td>\n",
       "      <td>1.000000</td>\n",
       "    </tr>\n",
       "  </tbody>\n",
       "</table>\n",
       "</div>"
      ],
      "text/plain": [
       "               red_predicted       red\n",
       "red_predicted       1.000000  0.829327\n",
       "red                 0.829327  1.000000"
      ]
     },
     "execution_count": 15,
     "metadata": {},
     "output_type": "execute_result"
    }
   ],
   "source": [
    " dff[['red_predicted','red']].corr()"
   ]
  },
  {
   "cell_type": "markdown",
   "id": "d8c45090",
   "metadata": {},
   "source": [
    "## preparing corelation table of all selected columns"
   ]
  },
  {
   "cell_type": "code",
   "execution_count": 18,
   "id": "468d1621",
   "metadata": {},
   "outputs": [],
   "source": [
    "data=dff[['red_predicted','green_predicted','blue_predicted','red','green','blue']]"
   ]
  },
  {
   "cell_type": "code",
   "execution_count": 19,
   "id": "816ae130",
   "metadata": {},
   "outputs": [
    {
     "data": {
      "text/html": [
       "<div>\n",
       "<style scoped>\n",
       "    .dataframe tbody tr th:only-of-type {\n",
       "        vertical-align: middle;\n",
       "    }\n",
       "\n",
       "    .dataframe tbody tr th {\n",
       "        vertical-align: top;\n",
       "    }\n",
       "\n",
       "    .dataframe thead th {\n",
       "        text-align: right;\n",
       "    }\n",
       "</style>\n",
       "<table border=\"1\" class=\"dataframe\">\n",
       "  <thead>\n",
       "    <tr style=\"text-align: right;\">\n",
       "      <th></th>\n",
       "      <th>red_predicted</th>\n",
       "      <th>green_predicted</th>\n",
       "      <th>blue_predicted</th>\n",
       "      <th>red</th>\n",
       "      <th>green</th>\n",
       "      <th>blue</th>\n",
       "    </tr>\n",
       "  </thead>\n",
       "  <tbody>\n",
       "    <tr>\n",
       "      <th>red_predicted</th>\n",
       "      <td>1.000000</td>\n",
       "      <td>0.830337</td>\n",
       "      <td>0.917407</td>\n",
       "      <td>0.829327</td>\n",
       "      <td>0.691520</td>\n",
       "      <td>0.758323</td>\n",
       "    </tr>\n",
       "    <tr>\n",
       "      <th>green_predicted</th>\n",
       "      <td>0.830337</td>\n",
       "      <td>1.000000</td>\n",
       "      <td>0.876268</td>\n",
       "      <td>0.761239</td>\n",
       "      <td>0.856895</td>\n",
       "      <td>0.772552</td>\n",
       "    </tr>\n",
       "    <tr>\n",
       "      <th>blue_predicted</th>\n",
       "      <td>0.917407</td>\n",
       "      <td>0.876268</td>\n",
       "      <td>1.000000</td>\n",
       "      <td>0.860595</td>\n",
       "      <td>0.807471</td>\n",
       "      <td>0.873393</td>\n",
       "    </tr>\n",
       "    <tr>\n",
       "      <th>red</th>\n",
       "      <td>0.829327</td>\n",
       "      <td>0.761239</td>\n",
       "      <td>0.860595</td>\n",
       "      <td>1.000000</td>\n",
       "      <td>0.867964</td>\n",
       "      <td>0.944083</td>\n",
       "    </tr>\n",
       "    <tr>\n",
       "      <th>green</th>\n",
       "      <td>0.691520</td>\n",
       "      <td>0.856895</td>\n",
       "      <td>0.807471</td>\n",
       "      <td>0.867964</td>\n",
       "      <td>1.000000</td>\n",
       "      <td>0.921543</td>\n",
       "    </tr>\n",
       "    <tr>\n",
       "      <th>blue</th>\n",
       "      <td>0.758323</td>\n",
       "      <td>0.772552</td>\n",
       "      <td>0.873393</td>\n",
       "      <td>0.944083</td>\n",
       "      <td>0.921543</td>\n",
       "      <td>1.000000</td>\n",
       "    </tr>\n",
       "  </tbody>\n",
       "</table>\n",
       "</div>"
      ],
      "text/plain": [
       "                 red_predicted  green_predicted  blue_predicted       red  \\\n",
       "red_predicted         1.000000         0.830337        0.917407  0.829327   \n",
       "green_predicted       0.830337         1.000000        0.876268  0.761239   \n",
       "blue_predicted        0.917407         0.876268        1.000000  0.860595   \n",
       "red                   0.829327         0.761239        0.860595  1.000000   \n",
       "green                 0.691520         0.856895        0.807471  0.867964   \n",
       "blue                  0.758323         0.772552        0.873393  0.944083   \n",
       "\n",
       "                    green      blue  \n",
       "red_predicted    0.691520  0.758323  \n",
       "green_predicted  0.856895  0.772552  \n",
       "blue_predicted   0.807471  0.873393  \n",
       "red              0.867964  0.944083  \n",
       "green            1.000000  0.921543  \n",
       "blue             0.921543  1.000000  "
      ]
     },
     "execution_count": 19,
     "metadata": {},
     "output_type": "execute_result"
    }
   ],
   "source": [
    "data.corr()"
   ]
  },
  {
   "cell_type": "markdown",
   "id": "b1cb0c0e",
   "metadata": {},
   "source": [
    "## using seaborn library and scartterplot method to plot correlation of two data"
   ]
  },
  {
   "cell_type": "code",
   "execution_count": 21,
   "id": "f104ea5e",
   "metadata": {},
   "outputs": [
    {
     "data": {
      "text/plain": [
       "<AxesSubplot:xlabel='green_predicted', ylabel='green'>"
      ]
     },
     "execution_count": 21,
     "metadata": {},
     "output_type": "execute_result"
    },
    {
     "data": {
      "image/png": "[encoded data removed]",
      "text/plain": [
       "<Figure size 432x288 with 1 Axes>"
      ]
     },
     "metadata": {
      "needs_background": "light"
     },
     "output_type": "display_data"
    }
   ],
   "source": [
    "sp.scatterplot(x=data.green_predicted,y=data.green)\n"
   ]
  },
  {
   "cell_type": "markdown",
   "id": "9dc5f93b",
   "metadata": {},
   "source": [
    "## setting x-label,y-label and title in the drawing and exporting as png"
   ]
  },
  {
   "cell_type": "code",
   "execution_count": 22,
   "id": "72ce0041",
   "metadata": {},
   "outputs": [
    {
     "data": {
      "text/plain": [
       "Text(0, 0.5, 'predicted blue band')"
      ]
     },
     "execution_count": 22,
     "metadata": {},
     "output_type": "execute_result"
    },
    {
     "data": {
      "image/png": "[encoded data removed]",
      "text/plain": [
       "<Figure size 432x288 with 1 Axes>"
      ]
     },
     "metadata": {
      "needs_background": "light"
     },
     "output_type": "display_data"
    }
   ],
   "source": [
    "s=sp.regplot(x=data.red_predicted,y=data.red,marker='o',scatter_kws={'s':9},color='red')\n",
    "#plt.savefig('sam1.png')\n",
    "s.set_title(\"corelation of blue band\",fontsize=25)\n",
    "s.set_xlabel('original blue band',fontsize=20,color='blue')\n",
    "s.set_ylabel('predicted blue band',fontsize=20,color='red')\n",
    "#plt.savefig('sam2.png')"
   ]
  },
  {
   "cell_type": "markdown",
   "id": "3ea7f897",
   "metadata": {},
   "source": [
    "## exporting columns to csv to be used in othe r application"
   ]
  },
  {
   "cell_type": "markdown",
   "id": "1d9aaeab",
   "metadata": {},
   "source": []
  },
  {
   "cell_type": "code",
   "execution_count": 26,
   "id": "6a8e1db8",
   "metadata": {},
   "outputs": [
    {
     "data": {
      "image/png": "[encoded data removed]",
      "text/plain": [
       "<Figure size 432x288 with 1 Axes>"
      ]
     },
     "metadata": {
      "needs_background": "light"
     },
     "output_type": "display_data"
    }
   ],
   "source": [
    "plt.scatter(x=data.blue_predicted,y=data.blue)\n",
    "plt.title('corelation of band 1')\n",
    "plt.xlabel('original band')\n",
    "plt.ylabel('predictd band')\n",
    "plt.show()"
   ]
  },
  {
   "cell_type": "markdown",
   "id": "28952330",
   "metadata": {},
   "source": [
    "## using matplotlib to plot a scatter plot of correlation"
   ]
  },
  {
   "cell_type": "code",
   "execution_count": 26,
   "id": "7cef2bcf",
   "metadata": {},
   "outputs": [],
   "source": [
    "dff[['red_predicted','green_predicted','blue_predicted','red','green','blue']].to_csv(\"data.csv\")\n"
   ]
  },
  {
   "cell_type": "markdown",
   "id": "0681403c",
   "metadata": {},
   "source": [
    "## preparing a box plot for data"
   ]
  },
  {
   "cell_type": "code",
   "execution_count": 28,
   "id": "8a0c3abd",
   "metadata": {},
   "outputs": [
    {
     "data": {
      "text/plain": [
       "<AxesSubplot:>"
      ]
     },
     "execution_count": 28,
     "metadata": {},
     "output_type": "execute_result"
    },
    {
     "data": {
      "image/png": "[encoded data removed]",
      "text/plain": [
       "<Figure size 432x288 with 1 Axes>"
      ]
     },
     "metadata": {
      "needs_background": "light"
     },
     "output_type": "display_data"
    }
   ],
   "source": [
    "sp.boxplot(data=data['red'])"
   ]
  },
  {
   "cell_type": "code",
   "execution_count": null,
   "id": "39edb62a",
   "metadata": {},
   "outputs": [],
   "source": []
  }
 ],
 "metadata": {
  "kernelspec": {
   "display_name": "Python 3 (ipykernel)",
   "language": "python",
   "name": "python3"
  },
  "language_info": {
   "codemirror_mode": {
    "name": "ipython",
    "version": 3
   },
   "file_extension": ".py",
   "mimetype": "text/x-python",
   "name": "python",
   "nbconvert_exporter": "python",
   "pygments_lexer": "ipython3",
   "version": "3.9.12"
  }
 },
 "nbformat": 4,
 "nbformat_minor": 5
}
